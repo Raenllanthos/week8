{
 "cells": [
  {
   "cell_type": "markdown",
   "metadata": {},
   "source": [
    "# Exercises"
   ]
  },
  {
   "cell_type": "markdown",
   "metadata": {},
   "source": [
    "### #1 - Calculate the BMI (body mass index) on the two lists below using NDArrays..."
   ]
  },
  {
   "cell_type": "code",
   "execution_count": 1,
   "metadata": {},
   "outputs": [
    {
     "name": "stdout",
     "output_type": "stream",
     "text": [
      "[16.866204578869986, 17.877551020408163, 18.825629835350128, 19.714506172839506, 20.54794520547945, 21.329437545653764, 22.06222222222222]\n"
     ]
    }
   ],
   "source": [
    "import numpy as np\n",
    "# formula = weight / (height**2) * 730\n",
    "height = [69, 70, 71, 72, 73, 74, 75]\n",
    "weight = [110, 120, 130, 140, 150, 160, 170]\n",
    "bmi = []\n",
    "for x in range(len(height)):\n",
    "    bmi.append(weight[x] / (height[x]**2) * 730)\n",
    "    \n",
    "print(bmi)\n",
    "# OUTPUT: [16.86620458 17.87755102 18.82562984 19.71450617 20.54794521 21.32943755\n",
    "# 22.06222222]\n",
    "\n",
    "\n"
   ]
  },
  {
   "cell_type": "markdown",
   "metadata": {},
   "source": [
    "### #2 - Create a function that will take in two parameters and will create a random matrix based off of those parameters. Extra: Have additional parameters taken in that allow the user to choose the shape and data type of the matrix."
   ]
  },
  {
   "cell_type": "code",
   "execution_count": 11,
   "metadata": {},
   "outputs": [
    {
     "name": "stdout",
     "output_type": "stream",
     "text": [
      "we're going to make a random matrix!\n",
      "I need two numbers: starting range number, Highest range number\n",
      "Starting range number: 1\n",
      "Highest range number: 10\n",
      "I need two numbers: rows and columns\n",
      "How many rows? 3\n",
      "How many columns? 3\n"
     ]
    },
    {
     "data": {
      "text/plain": [
       "array([[1, 6, 9],\n",
       "       [5, 2, 4],\n",
       "       [3, 7, 6]])"
      ]
     },
     "execution_count": 11,
     "metadata": {},
     "output_type": "execute_result"
    }
   ],
   "source": [
    "\"\"\"\n",
    "Example Result\n",
    "array([[14.21633515,  7.98846653,  9.64140715],\n",
    "       [ 6.30982234,  9.96414331,  8.43153688],\n",
    "       [14.73102068, 11.76072894, 14.23356121]])\n",
    "\"\"\"\n",
    "import numpy as np\n",
    "\n",
    "def makeMatrix():\n",
    "    print(\"we're going to make a random matrix!\")\n",
    "    print(\"I need two numbers: starting range number, Highest range number\")\n",
    "    rand1 = int(input(\"Starting range number: \"))\n",
    "    rand2 = int(input(\"Highest range number: \"))\n",
    "    print(\"I need two numbers: rows and columns\")\n",
    "    shape1 = int(input(\"How many rows? \"))\n",
    "    shape2 = int(input(\"How many columns? \"))\n",
    "    \n",
    "    arr = np.random.randint(rand1, rand2, (shape1, shape2))\n",
    "    return arr\n",
    "\n",
    "\n",
    "makeMatrix()"
   ]
  },
  {
   "cell_type": "markdown",
   "metadata": {},
   "source": [
    "### #3 - Extra: Open and load the data in the two text files that have the Boston Red Sox hitting data for the past seasons. Compare the difference in the two years by putting the data into an NDArray and running a differencial operation on it. The column to look for will be SLG.\n",
    "\n",
    "Your output should display which year (either 2017 or 2018) was a better year based on SLG"
   ]
  },
  {
   "cell_type": "code",
   "execution_count": 29,
   "metadata": {},
   "outputs": [
    {
     "name": "stdout",
     "output_type": "stream",
     "text": [
      "[['Rk', 'Pos', 'Name', 'Age', 'G', 'PA', 'AB', 'R', 'H', '2B', '3B', 'HR', 'RBI', 'SB', 'CS', 'BB', 'SO', 'BA', 'OBP', 'SLG', 'OPS', 'OPS+', 'TB', 'GDP', 'HBP', 'SH', 'SF', 'IBB'], ['1', 'C', 'Christian Vazquez', '26', '99', '345', '324', '43', '94', '18', '2', '5', '32', '7', '2', '17', '64', '.290', '.330', '.404', '.735', '91', '131', '14', '3', '0', '1', '0'], ['2', '1B', 'Mitch Moreland', '31', '149', '576', '508', '73', '125', '34', '0', '22', '79', '0', '1', '57', '120', '.246', '.326', '.443', '.769', '99', '225', '14', '6', '0', '5', '6'], ['3', '2B', 'Dustin Pedroia', '33', '105', '463', '406', '46', '119', '19', '0', '7', '62', '4', '3', '49', '48', '.293', '.369', '.392', '.760', '100', '159', '11', '2', '2', '4', '4'], ['4', 'SS', 'Xander Bogaerts', '24', '148', '635', '571', '94', '156', '32', '6', '10', '62', '15', '1', '56', '116', '.273', '.343', '.403', '.746', '95', '230', '17', '6', '0', '2', '6']]\n",
      "\n",
      " [['Rk', 'Pos', 'Name', 'Age', 'G', 'PA', 'AB', 'R', 'H', '2B', '3B', 'HR', 'RBI', 'SB', 'CS', 'BB', 'SO', 'BA', 'OBP', 'SLG', 'OPS', 'OPS+', 'TB', 'GDP', 'HBP', 'SH', 'SF', 'IBB'], ['1', 'C', 'Sandy Leon', '29', '89', '288', '265', '30', '47', '12', '0', '5', '22', '1', '0', '15', '75', '.177', '.232', '.279', '.511', '37', '74', '6', '4', '3', '1', '0'], ['2', '1B', 'Mitch Moreland', '32', '124', '459', '404', '57', '99', '23', '4', '15', '68', '2', '0', '50', '102', '.245', '.325', '.433', '.758', '102', '175', '12', '0', '0', '5', '2'], ['3', '2B', 'Eduardo Nunez', '31', '127', '502', '480', '56', '127', '23', '3', '10', '44', '7', '2', '16', '69', '.265', '.289', '.388', '.677', '81', '186', '17', '2', '1', '3', '0'], ['4', 'SS', 'Xander Bogaerts', '25', '136', '580', '513', '72', '148', '45', '3', '23', '103', '8', '2', '55', '102', '.288', '.360', '.522', '.883', '135', '268', '14', '6', '0', '6', '4']]\n"
     ]
    }
   ],
   "source": [
    "import csv\n",
    "import numpy as np\n",
    "\n",
    "#Test to make sure you have the correct data\n",
    "def openCSV(filename, d=\",\"):\n",
    "    data = []\n",
    "    with open(filename, encoding=\"utf-8\") as mdata:\n",
    "        # use the csv reader method to create a python list\n",
    "        info = csv.reader(mdata, delimiter=d)\n",
    "        for row in info:\n",
    "            data.append(row)\n",
    "    return data\n",
    "\n",
    "csvdata1 = openCSV(\"redsox_2017_hitting.txt\")\n",
    "csvdata2 = openCSV(\"redsox_2018_hitting.txt\")\n",
    "print(csvdata1[:5])\n",
    "print(\"\\n\", csvdata2[:5])"
   ]
  },
  {
   "cell_type": "code",
   "execution_count": 36,
   "metadata": {},
   "outputs": [
    {
     "name": "stdout",
     "output_type": "stream",
     "text": [
      "[0.404 0.443 0.392 0.403 0.482 0.424 0.402 0.459 0.429 0.354 0.387 0.333\n",
      " 0.539 0.243 0.262 0.354 0.342 0.339 0.328 0.306 0.222 0.2   1.   ]\n",
      "\n",
      " [0.279 0.433 0.388 0.522 0.433 0.465 0.403 0.64  0.629 0.411 0.283 0.328\n",
      " 0.395 0.507 0.311 0.415 0.389 0.261 0.091 0.167]\n",
      "\n",
      "Length of data in csvdata1 is 23. Length of data in csvdata2 is 20\n",
      "csvdata1 (23) - csvdata2 (20) = 3\n",
      "csvdata1 has 3 more\n"
     ]
    }
   ],
   "source": [
    "\"\"\"\n",
    "Example Result - Not the actual result\n",
    "Boston 18 had more SLG in 2018\n",
    "[0.404 0.443 0.392 0.403 0.482 0.424 0.402 0.459 0.429 0.354 0.387 0.333\n",
    " 0.539 0.243 0.262 0.354 0.342 0.339 0.328 0.306 0.222 0.2   1.   ]\n",
    "\"\"\"\n",
    "\n",
    "FIELDS = ['Rk', 'Pos', 'Name', 'Age', 'G', 'PA', 'AB', 'R', 'H', '2B', '3B', 'HR', 'RBI', 'SB', 'CS', \n",
    "          'BB', 'SO', 'BA', 'OBP', 'SLG', 'OPS', 'OPS+', 'TB', 'GDP', 'HBP', 'SH', 'SF', 'IBB']\n",
    "\n",
    "DATATYPES = [('rk', 'i'), ('pos', '|S25'), ('name', '|S25'), ('age', 'i'), ('g', 'i'), ('pa', 'i'), ('ab', 'i'),\n",
    "                ('r', 'i'), ('h', 'i'), ('2b', 'i'), ('3b', 'i'), ('hr', 'i'), ('rbi', 'i'), ('sb', 'i'), ('cs', 'i'),\n",
    "                ('bb', 'i'), ('so', 'i'), ('ba', 'f'), ('obp', 'f'), ('slg', 'f'), ('ops', 'f'), ('opsp', 'i'),\n",
    "                ('tb', 'i'), ('gdp', 'i'), ('hbp', 'i'), ('sh', 'i'), ('sf', 'i'), ('ibb', 'i')]\n",
    "\n",
    "#Use this function to actually open the data inside of a NDArray\n",
    "\n",
    "def loadData(filename, d=','):\n",
    "    data = np.genfromtxt(filename, delimiter=d, skip_header=1,\n",
    "                        usecols=np.arange(0,24), invalid_raise=False,\n",
    "                        names=FIELDS, dtype=DATATYPES)\n",
    "    return data\n",
    "\n",
    "csvdata1 = loadData(\"redsox_2017_hitting.txt\")\n",
    "csvdata2 = loadData(\"redsox_2018_hitting.txt\")\n",
    "print(csvdata1[\"SLG\"])\n",
    "print(\"\\n\", csvdata2[\"SLG\"])\n",
    "\n",
    "print(f\"\\nLength of data in csvdata1 is {len(csvdata1)}. Length of data in csvdata2 is {len(csvdata2)}\")\n",
    "print(f\"csvdata1 ({len(csvdata1)}) - csvdata2 ({len(csvdata2)}) = {len(csvdata1) - len(csvdata2)}\")\n",
    "print(\"csvdata1 has 3 more\")"
   ]
  },
  {
   "cell_type": "code",
   "execution_count": null,
   "metadata": {},
   "outputs": [],
   "source": []
  }
 ],
 "metadata": {
  "kernelspec": {
   "display_name": "Python 3",
   "language": "python",
   "name": "python3"
  },
  "language_info": {
   "codemirror_mode": {
    "name": "ipython",
    "version": 3
   },
   "file_extension": ".py",
   "mimetype": "text/x-python",
   "name": "python",
   "nbconvert_exporter": "python",
   "pygments_lexer": "ipython3",
   "version": "3.8.5"
  }
 },
 "nbformat": 4,
 "nbformat_minor": 2
}
